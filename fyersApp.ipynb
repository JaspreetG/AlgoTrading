{
 "cells": [
  {
   "cell_type": "code",
   "execution_count": 1,
   "metadata": {},
   "outputs": [
    {
     "name": "stdout",
     "output_type": "stream",
     "text": [
      "\u001b[1;32mPROFILE LOADED SUCCESSFULLY\u001b[0m\n"
     ]
    }
   ],
   "source": [
    "from fyers import FyersApp\n",
    "from statergies import Stat\n",
    "\n",
    "if __name__ == \"__main__\":\n",
    "    app = FyersApp()\n",
    "    # authoring app, no need to run this code again\n",
    "    # print(app.enable_app())\n",
    "    profile = app.get_profile()\n",
    "    if profile['code'] != 200:\n",
    "        print(\"\\033[1;31mERROR IN LOADING PROFILE\\033[0m\")\n",
    "        exit(1)\n",
    "    else:\n",
    "        print(\"\\033[1;32mPROFILE LOADED SUCCESSFULLY\\033[0m\")\n",
    "    # pprint(app.get_quote(['SBIN', 'RELIANCE']))\n",
    "    # pprint(app.get_depth('SBIN'))\n",
    "    # pprint(app.get_funds())\n",
    "    # pprint(app.get_holdings())\n",
    "    # pprint(app.get_order_book())\n",
    "    # pprint(app.get_positions())\n",
    "    # pprint(app.get_trade_book())"
   ]
  },
  {
   "cell_type": "code",
   "execution_count": 2,
   "metadata": {},
   "outputs": [
    {
     "ename": "KeyError",
     "evalue": "'code'",
     "output_type": "error",
     "traceback": [
      "\u001b[0;31m---------------------------------------------------------------------------\u001b[0m",
      "\u001b[0;31mKeyError\u001b[0m                                  Traceback (most recent call last)",
      "Cell \u001b[0;32mIn[2], line 2\u001b[0m\n\u001b[1;32m      1\u001b[0m \u001b[38;5;28;01mif\u001b[39;00m \u001b[38;5;18m__name__\u001b[39m \u001b[38;5;241m==\u001b[39m \u001b[38;5;124m\"\u001b[39m\u001b[38;5;124m__main__\u001b[39m\u001b[38;5;124m\"\u001b[39m:\n\u001b[0;32m----> 2\u001b[0m     data \u001b[38;5;241m=\u001b[39m \u001b[43mapp\u001b[49m\u001b[38;5;241;43m.\u001b[39;49m\u001b[43mfetch_historical_data\u001b[49m\u001b[43m(\u001b[49m\n\u001b[1;32m      3\u001b[0m \u001b[43m        \u001b[49m\u001b[38;5;124;43m'\u001b[39;49m\u001b[38;5;124;43mNSE:RELIANCE-EQ\u001b[39;49m\u001b[38;5;124;43m'\u001b[39;49m\u001b[43m,\u001b[49m\u001b[43m \u001b[49m\u001b[43mresolution\u001b[49m\u001b[38;5;241;43m=\u001b[39;49m\u001b[38;5;124;43m'\u001b[39;49m\u001b[38;5;124;43m1\u001b[39;49m\u001b[38;5;124;43m'\u001b[39;49m\u001b[43m,\u001b[49m\u001b[43m \u001b[49m\u001b[43mdata_from\u001b[49m\u001b[38;5;241;43m=\u001b[39;49m\u001b[38;5;124;43m'\u001b[39;49m\u001b[38;5;124;43m2005-01-01\u001b[39;49m\u001b[38;5;124;43m'\u001b[39;49m\u001b[43m,\u001b[49m\u001b[43m \u001b[49m\u001b[43mdata_to\u001b[49m\u001b[38;5;241;43m=\u001b[39;49m\u001b[38;5;124;43m'\u001b[39;49m\u001b[38;5;124;43m2024-06-01\u001b[39;49m\u001b[38;5;124;43m'\u001b[39;49m\u001b[43m)\u001b[49m\n\u001b[1;32m      4\u001b[0m     display(data)\n",
      "File \u001b[0;32m~/Development/AlgoTrading/fyers.py:114\u001b[0m, in \u001b[0;36mFyersApp.fetch_historical_data\u001b[0;34m(self, symbol, resolution, data_from, data_to)\u001b[0m\n\u001b[1;32m    108\u001b[0m request_data_from, request_data_to \u001b[38;5;241m=\u001b[39m start_date\u001b[38;5;241m.\u001b[39mstrftime(\n\u001b[1;32m    109\u001b[0m     \u001b[38;5;124m'\u001b[39m\u001b[38;5;124m%\u001b[39m\u001b[38;5;124mY-\u001b[39m\u001b[38;5;124m%\u001b[39m\u001b[38;5;124mm-\u001b[39m\u001b[38;5;132;01m%d\u001b[39;00m\u001b[38;5;124m'\u001b[39m), end_date\u001b[38;5;241m.\u001b[39mstrftime(\u001b[38;5;124m'\u001b[39m\u001b[38;5;124m%\u001b[39m\u001b[38;5;124mY-\u001b[39m\u001b[38;5;124m%\u001b[39m\u001b[38;5;124mm-\u001b[39m\u001b[38;5;132;01m%d\u001b[39;00m\u001b[38;5;124m'\u001b[39m)\n\u001b[1;32m    111\u001b[0m data \u001b[38;5;241m=\u001b[39m \u001b[38;5;28mself\u001b[39m\u001b[38;5;241m.\u001b[39mget_historical_data(\n\u001b[1;32m    112\u001b[0m     symbol, resolution\u001b[38;5;241m=\u001b[39mresolution, data_from\u001b[38;5;241m=\u001b[39mrequest_data_from, data_to\u001b[38;5;241m=\u001b[39mrequest_data_to)\n\u001b[0;32m--> 114\u001b[0m \u001b[38;5;28;01mwhile\u001b[39;00m \u001b[43mdata\u001b[49m\u001b[43m[\u001b[49m\u001b[38;5;124;43m'\u001b[39;49m\u001b[38;5;124;43mcode\u001b[39;49m\u001b[38;5;124;43m'\u001b[39;49m\u001b[43m]\u001b[49m \u001b[38;5;241m==\u001b[39m \u001b[38;5;241m429\u001b[39m:\n\u001b[1;32m    115\u001b[0m     time\u001b[38;5;241m.\u001b[39msleep(\u001b[38;5;241m2\u001b[39m)\n\u001b[1;32m    116\u001b[0m     data \u001b[38;5;241m=\u001b[39m \u001b[38;5;28mself\u001b[39m\u001b[38;5;241m.\u001b[39mget_historical_data(\n\u001b[1;32m    117\u001b[0m         symbol, resolution\u001b[38;5;241m=\u001b[39mresolution, data_from\u001b[38;5;241m=\u001b[39mrequest_data_from, data_to\u001b[38;5;241m=\u001b[39mrequest_data_to)\n",
      "\u001b[0;31mKeyError\u001b[0m: 'code'"
     ]
    }
   ],
   "source": [
    "if __name__ == \"__main__\":\n",
    "    data = app.fetch_historical_data(\n",
    "        'NSE:RELIANCE-EQ', resolution='1', data_from='2005-01-01', data_to='2024-06-01')\n",
    "    display(data)"
   ]
  },
  {
   "cell_type": "code",
   "execution_count": 8,
   "metadata": {},
   "outputs": [],
   "source": [
    "data.to_csv('reliance.csv', index=True)"
   ]
  },
  {
   "cell_type": "code",
   "execution_count": null,
   "metadata": {},
   "outputs": [],
   "source": [
    "\n",
    "if __name__ == \"__main__\":\n",
    "    strategy = Stat(data)\n",
    "    strategy.nmacd_strategy()\n"
   ]
  }
 ],
 "metadata": {
  "kernelspec": {
   "display_name": ".venv",
   "language": "python",
   "name": "python3"
  },
  "language_info": {
   "codemirror_mode": {
    "name": "ipython",
    "version": 3
   },
   "file_extension": ".py",
   "mimetype": "text/x-python",
   "name": "python",
   "nbconvert_exporter": "python",
   "pygments_lexer": "ipython3",
   "version": "3.12.5"
  }
 },
 "nbformat": 4,
 "nbformat_minor": 2
}

{
 "cells": [
  {
   "cell_type": "code",
   "execution_count": 4,
   "metadata": {},
   "outputs": [
    {
     "name": "stdout",
     "output_type": "stream",
     "text": [
      "\u001b[1;32mPROFILE LOADED SUCCESSFULLY\u001b[0m\n"
     ]
    }
   ],
   "source": [
    "from fyers import FyersApp\n",
    "from statergies import Statergy\n",
    "\n",
    "if __name__ == \"__main__\":\n",
    "    app = FyersApp()\n",
    "    # authoring app, no need to run this code again\n",
    "    # print(app.enable_app())\n",
    "    profile = app.get_profile()\n",
    "    if profile['code'] != 200:\n",
    "        print(\"\\033[1;31mERROR IN LOADING PROFILE\\033[0m\")\n",
    "        exit(1)\n",
    "    else:\n",
    "        print(\"\\033[1;32mPROFILE LOADED SUCCESSFULLY\\033[0m\")\n",
    "    # pprint(app.get_quote(['SBIN', 'RELIANCE']))\n",
    "    # pprint(app.get_depth('SBIN'))\n",
    "    # pprint(app.get_funds())\n",
    "    # pprint(app.get_holdings())\n",
    "    # pprint(app.get_order_book())\n",
    "    # pprint(app.get_positions())\n",
    "    # pprint(app.get_trade_book())"
   ]
  },
  {
   "cell_type": "code",
   "execution_count": null,
   "metadata": {},
   "outputs": [],
   "source": [
    "if __name__ == \"__main__\":\n",
    "    data = app.fetch_historical_data(\n",
    "        'NSE:BANKNIFTY24APRFUT', resolution='60', data_from='2023-01-01', data_to='2024-03-27')\n",
    "    display(data)"
   ]
  },
  {
   "cell_type": "code",
   "execution_count": null,
   "metadata": {},
   "outputs": [],
   "source": [
    "if __name__ == \"__main__\":\n",
    "    statergy = Statergy(data)\n",
    "    accuracy, returns, trades = statergy.big_bar_strategy()\n",
    "    print(\"\\033[1;32mAccuracy: {:.2f}% Returns: {:.2f}% Trades: {}\\033[0m\".format(\n",
    "        accuracy * 100, returns, trades))"
   ]
  }
 ],
 "metadata": {
  "kernelspec": {
   "display_name": ".venv",
   "language": "python",
   "name": "python3"
  },
  "language_info": {
   "codemirror_mode": {
    "name": "ipython",
    "version": 3
   },
   "file_extension": ".py",
   "mimetype": "text/x-python",
   "name": "python",
   "nbconvert_exporter": "python",
   "pygments_lexer": "ipython3",
   "version": "3.12.2"
  }
 },
 "nbformat": 4,
 "nbformat_minor": 2
}

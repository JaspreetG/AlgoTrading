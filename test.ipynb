{
 "cells": [
  {
   "cell_type": "code",
   "execution_count": 1,
   "metadata": {},
   "outputs": [
    {
     "name": "stdout",
     "output_type": "stream",
     "text": [
      "            author_id  viewer_id  view_date\n",
      "article_id                                 \n",
      "1                   3          5 2019-08-01\n",
      "1                   3          6 2019-08-02\n",
      "2                   7          7 2019-08-01\n",
      "2                   7          6 2019-08-02\n",
      "4                   7          1 2019-07-22\n",
      "3                   4          4 2019-07-21\n",
      "3                   4          4 2019-07-21\n"
     ]
    }
   ],
   "source": [
    "import pandas as pd\n",
    "\n",
    "# Create a dictionary with the data\n",
    "data = {\n",
    "    'article_id': [1, 1, 2, 2, 4, 3, 3],\n",
    "    'author_id': [3, 3, 7, 7, 7, 4, 4],\n",
    "    'viewer_id': [5, 6, 7, 6, 1, 4, 4],\n",
    "    'view_date': ['2019-08-01', '2019-08-02', '2019-08-01', '2019-08-02', '2019-07-22', '2019-07-21', '2019-07-21']\n",
    "}\n",
    "\n",
    "# Create a DataFrame from the dictionary\n",
    "views_df = pd.DataFrame(data)\n",
    "\n",
    "# Convert 'view_date' column to datetime\n",
    "views_df['view_date'] = pd.to_datetime(views_df['view_date'])\n",
    "views_df.set_index('article_id', inplace=True)\n",
    "# Display the DataFrame\n",
    "print(views_df)\n"
   ]
  },
  {
   "cell_type": "code",
   "execution_count": 2,
   "metadata": {},
   "outputs": [
    {
     "name": "stdout",
     "output_type": "stream",
     "text": [
      "            author_id  viewer_id  view_date\n",
      "article_id                                 \n",
      "2                   7          7 2019-08-01\n",
      "3                   4          4 2019-07-21\n",
      "3                   4          4 2019-07-21\n"
     ]
    }
   ],
   "source": []
  },
  {
   "cell_type": "code",
   "execution_count": 16,
   "metadata": {},
   "outputs": [
    {
     "data": {
      "text/plain": [
       "0    4\n",
       "1    7\n",
       "Name: id, dtype: int64"
      ]
     },
     "execution_count": 16,
     "metadata": {},
     "output_type": "execute_result"
    }
   ],
   "source": []
  }
 ],
 "metadata": {
  "kernelspec": {
   "display_name": ".venv",
   "language": "python",
   "name": "python3"
  },
  "language_info": {
   "codemirror_mode": {
    "name": "ipython",
    "version": 3
   },
   "file_extension": ".py",
   "mimetype": "text/x-python",
   "name": "python",
   "nbconvert_exporter": "python",
   "pygments_lexer": "ipython3",
   "version": "3.12.2"
  }
 },
 "nbformat": 4,
 "nbformat_minor": 2
}
